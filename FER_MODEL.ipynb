{
  "nbformat": 4,
  "nbformat_minor": 0,
  "metadata": {
    "colab": {
      "provenance": [],
      "gpuType": "T4",
      "collapsed_sections": [
        "jlLM43wuznsO"
      ],
      "authorship_tag": "ABX9TyPHJT1RCDwCoXj063r11PKt",
      "include_colab_link": true
    },
    "kernelspec": {
      "name": "python3",
      "display_name": "Python 3"
    },
    "language_info": {
      "name": "python"
    },
    "accelerator": "GPU",
    "gpuClass": "standard"
  },
  "cells": [
    {
      "cell_type": "markdown",
      "metadata": {
        "id": "view-in-github",
        "colab_type": "text"
      },
      "source": [
        "<a href=\"https://colab.research.google.com/github/maronem/FER_App/blob/main/FER_MODEL.ipynb\" target=\"_parent\"><img src=\"https://colab.research.google.com/assets/colab-badge.svg\" alt=\"Open In Colab\"/></a>"
      ]
    },
    {
      "cell_type": "code",
      "execution_count": 1,
      "metadata": {
        "colab": {
          "base_uri": "https://localhost:8080/",
          "height": 35
        },
        "id": "SvKN9Rn73Ma7",
        "outputId": "28a279c0-0edc-410f-8cf3-efebbd9c548b"
      },
      "outputs": [
        {
          "output_type": "execute_result",
          "data": {
            "text/plain": [
              "'2.0.0+cu118'"
            ],
            "application/vnd.google.colaboratory.intrinsic+json": {
              "type": "string"
            }
          },
          "metadata": {},
          "execution_count": 1
        }
      ],
      "source": [
        "import torch\n",
        "from torch import nn\n",
        "\n",
        "# We need PyTorch 1.10.0\n",
        "torch.__version__"
      ]
    },
    {
      "cell_type": "code",
      "source": [
        "# Setup device agnostic code\n",
        "device = \"cuda\" if torch.cuda.is_available() else \"cpu\"\n",
        "device"
      ],
      "metadata": {
        "colab": {
          "base_uri": "https://localhost:8080/",
          "height": 35
        },
        "id": "p6w-Qwn03QbY",
        "outputId": "24084817-e582-4d81-8950-88a3f491850e"
      },
      "execution_count": 2,
      "outputs": [
        {
          "output_type": "execute_result",
          "data": {
            "text/plain": [
              "'cuda'"
            ],
            "application/vnd.google.colaboratory.intrinsic+json": {
              "type": "string"
            }
          },
          "metadata": {},
          "execution_count": 2
        }
      ]
    },
    {
      "cell_type": "markdown",
      "source": [
        "## Setup File Paths and upload data\n"
      ],
      "metadata": {
        "id": "fketLVa34b7o"
      }
    },
    {
      "cell_type": "code",
      "source": [
        "import requests \n",
        "import zipfile \n",
        "from pathlib import Path\n",
        "\n",
        "# Setup path to data folder\n",
        "data_path = Path(\"data/\")\n",
        "image_path = data_path / \"FER_images\"\n",
        "\n",
        "# If folder doesn't exist, download and prepare it\n",
        "if image_path.is_dir():\n",
        "  print(f\"{image_path} already exists... skipping download\")\n",
        "else:\n",
        "  print(f\"Creating image path: {image_path}\")\n",
        "  image_path.mkdir(parents=True,\n",
        "                   exist_ok=True)"
      ],
      "metadata": {
        "id": "3sbbA8Ro3Q-l",
        "colab": {
          "base_uri": "https://localhost:8080/"
        },
        "outputId": "bede1ee6-2448-4f1f-f4bb-c3f7ea5dc80b"
      },
      "execution_count": null,
      "outputs": [
        {
          "output_type": "stream",
          "name": "stdout",
          "text": [
            "data/FER_images already exists... skipping download\n"
          ]
        }
      ]
    },
    {
      "cell_type": "code",
      "source": [
        "image_path"
      ],
      "metadata": {
        "id": "7oUvSRcU3Q7l",
        "colab": {
          "base_uri": "https://localhost:8080/"
        },
        "outputId": "fa7928aa-dd3b-46ba-daf7-3a791bbea6c3"
      },
      "execution_count": null,
      "outputs": [
        {
          "output_type": "execute_result",
          "data": {
            "text/plain": [
              "PosixPath('data/FER_images')"
            ]
          },
          "metadata": {},
          "execution_count": 12
        }
      ]
    },
    {
      "cell_type": "code",
      "source": [
        "# Unzip data file\n",
        "with zipfile.ZipFile(image_path / \"FER_APP.zip\", \"r\") as zip_ref:\n",
        "  print(\"Unzipping data file...\")\n",
        "  zip_ref.extractall(image_path)"
      ],
      "metadata": {
        "id": "VUPyveyc3Q5C",
        "colab": {
          "base_uri": "https://localhost:8080/"
        },
        "outputId": "88418289-9e40-4769-cabe-b7ee6079a655"
      },
      "execution_count": null,
      "outputs": [
        {
          "output_type": "stream",
          "name": "stdout",
          "text": [
            "Unzipping data file...\n"
          ]
        }
      ]
    },
    {
      "cell_type": "code",
      "source": [
        "image_path = image_path / \"FER_APP\"\n",
        "image_path"
      ],
      "metadata": {
        "id": "cH03GVpW3Q2b",
        "colab": {
          "base_uri": "https://localhost:8080/"
        },
        "outputId": "ee58eebc-4472-4867-9651-38a637c9ebc9"
      },
      "execution_count": null,
      "outputs": [
        {
          "output_type": "execute_result",
          "data": {
            "text/plain": [
              "PosixPath('data/FER_images/FER_APP')"
            ]
          },
          "metadata": {},
          "execution_count": 16
        }
      ]
    },
    {
      "cell_type": "markdown",
      "source": [
        "## Explore data"
      ],
      "metadata": {
        "id": "4Q1K2CDoAs-U"
      }
    },
    {
      "cell_type": "code",
      "source": [
        "import os\n",
        "\n",
        "def dir_walkthrough(dir_path):\n",
        "  \"\"\" Walks through dir_path and returns it's contents.\"\"\"\n",
        "  for dirpath, dirnames, filenames in os.walk(dir_path):\n",
        "    print(f\"There are {len(dirpath)} directories and {len(filenames)} images in '{dirpath}'\")"
      ],
      "metadata": {
        "id": "Yv3hB5u4AS1G"
      },
      "execution_count": null,
      "outputs": []
    },
    {
      "cell_type": "code",
      "source": [
        "dir_walkthrough(image_path)"
      ],
      "metadata": {
        "colab": {
          "base_uri": "https://localhost:8080/"
        },
        "id": "wLAmjCxGBLm1",
        "outputId": "565ac0f7-326b-47b9-c089-04db1fe8d49e"
      },
      "execution_count": null,
      "outputs": [
        {
          "output_type": "stream",
          "name": "stdout",
          "text": [
            "There are 23 directories and 0 images in 'data/FER_images/FER_APP'\n",
            "There are 29 directories and 0 images in 'data/FER_images/FER_APP/train'\n",
            "There are 35 directories and 3995 images in 'data/FER_images/FER_APP/train/angry'\n",
            "There are 35 directories and 7215 images in 'data/FER_images/FER_APP/train/happy'\n",
            "There are 37 directories and 4965 images in 'data/FER_images/FER_APP/train/neutral'\n",
            "There are 33 directories and 4830 images in 'data/FER_images/FER_APP/train/sad'\n",
            "There are 34 directories and 4097 images in 'data/FER_images/FER_APP/train/fear'\n",
            "There are 37 directories and 436 images in 'data/FER_images/FER_APP/train/disgust'\n",
            "There are 38 directories and 3171 images in 'data/FER_images/FER_APP/train/surprise'\n",
            "There are 28 directories and 0 images in 'data/FER_images/FER_APP/test'\n",
            "There are 34 directories and 958 images in 'data/FER_images/FER_APP/test/angry'\n",
            "There are 34 directories and 1774 images in 'data/FER_images/FER_APP/test/happy'\n",
            "There are 36 directories and 1233 images in 'data/FER_images/FER_APP/test/neutral'\n",
            "There are 32 directories and 1247 images in 'data/FER_images/FER_APP/test/sad'\n",
            "There are 33 directories and 1024 images in 'data/FER_images/FER_APP/test/fear'\n",
            "There are 36 directories and 111 images in 'data/FER_images/FER_APP/test/disgust'\n",
            "There are 37 directories and 831 images in 'data/FER_images/FER_APP/test/surprise'\n"
          ]
        }
      ]
    },
    {
      "cell_type": "code",
      "source": [
        "# Setup train and test directories\n",
        "\n",
        "train_dir = image_path / \"train\"\n",
        "test_dir = image_path / \"test\"\n",
        "\n",
        "train_dir, test_dir"
      ],
      "metadata": {
        "colab": {
          "base_uri": "https://localhost:8080/"
        },
        "id": "50BiaBlwBPL-",
        "outputId": "a61a12d0-e8dc-41ca-d887-0a2959d7ae37"
      },
      "execution_count": null,
      "outputs": [
        {
          "output_type": "execute_result",
          "data": {
            "text/plain": [
              "(PosixPath('data/FER_images/FER_APP/train'),\n",
              " PosixPath('data/FER_images/FER_APP/test'))"
            ]
          },
          "metadata": {},
          "execution_count": 19
        }
      ]
    },
    {
      "cell_type": "markdown",
      "source": [
        "## Visualize data images"
      ],
      "metadata": {
        "id": "StKjHtUTDwaX"
      }
    },
    {
      "cell_type": "code",
      "source": [
        "image_path"
      ],
      "metadata": {
        "colab": {
          "base_uri": "https://localhost:8080/"
        },
        "id": "fI8adrMeEYmB",
        "outputId": "88209615-7c28-498f-e05c-8bfd1109447f"
      },
      "execution_count": null,
      "outputs": [
        {
          "output_type": "execute_result",
          "data": {
            "text/plain": [
              "PosixPath('data/FER_images/FER_APP')"
            ]
          },
          "metadata": {},
          "execution_count": 20
        }
      ]
    },
    {
      "cell_type": "code",
      "source": [
        "import random\n",
        "from PIL import Image\n",
        "\n",
        "#random.seed(42)\n",
        "\n",
        "# Get all image paths\n",
        "image_path_list = list(image_path.glob(\"*/*/*.jpg\"))\n",
        "#image_path_list[:10]\n",
        "\n",
        "# Select random image\n",
        "rand_img_path = random.choice(image_path_list)\n",
        "#print(rand_img_path)\n",
        "\n",
        "# Get image class \n",
        "rand_img_class = rand_img_path.parent.stem\n",
        "#print(img_class)\n",
        "\n",
        "# Open img using PIL\n",
        "rand_img = Image.open(rand_img_path)\n",
        "\n",
        "print(f\"Random img path: {rand_img_path}\")\n",
        "print(f\"Img class: {rand_img_class}\")\n",
        "print(f\"Img height: {rand_img.height}\")\n",
        "print(f\"Img width: {rand_img.width}\")\n",
        "rand_img"
      ],
      "metadata": {
        "colab": {
          "base_uri": "https://localhost:8080/",
          "height": 134
        },
        "id": "VqsaEwTBBd9w",
        "outputId": "18cad761-76a6-42e9-cb5a-92494fd1da79"
      },
      "execution_count": null,
      "outputs": [
        {
          "output_type": "stream",
          "name": "stdout",
          "text": [
            "Random img path: data/FER_images/FER_APP/train/angry/Training_63427092.jpg\n",
            "Img class: angry\n",
            "Img height: 48\n",
            "Img width: 48\n"
          ]
        },
        {
          "output_type": "execute_result",
          "data": {
            "text/plain": [
              "<PIL.JpegImagePlugin.JpegImageFile image mode=L size=48x48 at 0x7FCEF9386A40>"
            ],
            "image/png": "[encoded data removed]"
          },
          "metadata": {},
          "execution_count": 21
        }
      ]
    },
    {
      "cell_type": "markdown",
      "source": [
        "## Setup Data Transforms\n",
        "\n",
        "`torchvision.transforms` documentation - https://pytorch.org/vision/stable/transforms.html"
      ],
      "metadata": {
        "id": "fZKb2ajJUukB"
      }
    },
    {
      "cell_type": "code",
      "source": [
        "from torch.utils.data import DataLoader\n",
        "from torchvision import datasets, transforms\n",
        "\n",
        "# Compose img transform\n",
        "img_transform = transforms.Compose([\n",
        "    # Randomly flip imgs on horizontal plane\n",
        "    transforms.RandomHorizontalFlip(p=0.5),\n",
        "    # Augment color aspects of img\n",
        "    transforms.ColorJitter(brightness=(0.5,1.5),\n",
        "                           contrast=(1),\n",
        "                           saturation=(0.5,1.5),\n",
        "                           hue=(-0.1,0.1)),\n",
        "    # Turn img into torch Tensor\n",
        "    transforms.ToTensor()\n",
        "])\n",
        "\n",
        "\n"
      ],
      "metadata": {
        "id": "l9inQP8wDzQj"
      },
      "execution_count": null,
      "outputs": []
    },
    {
      "cell_type": "code",
      "source": [
        "img_transform(rand_img).dtype, img_transform(rand_img).shape"
      ],
      "metadata": {
        "id": "NYBEEvxmDzNw",
        "colab": {
          "base_uri": "https://localhost:8080/"
        },
        "outputId": "bed4c717-189d-4b13-8c47-f865dad77e91"
      },
      "execution_count": null,
      "outputs": [
        {
          "output_type": "execute_result",
          "data": {
            "text/plain": [
              "(torch.float32, torch.Size([1, 48, 48]))"
            ]
          },
          "metadata": {},
          "execution_count": 23
        }
      ]
    },
    {
      "cell_type": "code",
      "source": [
        "import matplotlib.pyplot as plt\n",
        "\n",
        "def plot_img_transform(image_paths, transform, n=3, seed=None):\n",
        "  \"\"\"\n",
        "  Selects random images from a path and transforms/plots original vs. transformed.\n",
        "  \"\"\"\n",
        "  if seed:\n",
        "    random.seed(seed)\n",
        "  random_image_paths = random.sample(image_paths, k=n)\n",
        "  for image_path in random_image_paths:\n",
        "    with Image.open(image_path) as f:\n",
        "      fig, ax = plt.subplots(nrows=1, ncols=2)\n",
        "      ax[0].imshow(f, cmap = plt.cm.gray)\n",
        "      ax[0].set_title(f\"Original\\nSize: {f.size}\")\n",
        "      ax[0].axis(False)\n",
        "\n",
        "    # Transformed image\n",
        "    transformed_img = transform(f).permute(1,2,0) # matplotlib uses (H,W,C)\n",
        "    ax[1].imshow(transformed_img, cmap = plt.cm.gray)\n",
        "    ax[1].set_title(f\"Transformed\\nSize: {transformed_img.shape}\")\n",
        "    ax[1].axis(False)\n",
        "\n",
        "    fig.suptitle(f\"Class: {image_path.parent.stem}\", fontsize=12)\n",
        "\n",
        "\n",
        "  "
      ],
      "metadata": {
        "id": "2MROe5NJDzLk"
      },
      "execution_count": null,
      "outputs": []
    },
    {
      "cell_type": "code",
      "source": [
        "plot_img_transform(image_paths=image_path_list,\n",
        "                   transform=img_transform,\n",
        "                   n=3,\n",
        "                   seed=None)"
      ],
      "metadata": {
        "id": "hpQ54i4iDzJA",
        "colab": {
          "base_uri": "https://localhost:8080/",
          "height": 1000
        },
        "outputId": "a0203427-ae4d-4940-e27e-0aa18854ac43"
      },
      "execution_count": null,
      "outputs": [
        {
          "output_type": "display_data",
          "data": {
            "text/plain": [
              "<Figure size 640x480 with 2 Axes>"
            ],
            "image/png": "[encoded data removed]"
          },
          "metadata": {}
        },
        {
          "output_type": "display_data",
          "data": {
            "text/plain": [
              "<Figure size 640x480 with 2 Axes>"
            ],
            "image/png": "[encoded data removed]"
          },
          "metadata": {}
        },
        {
          "output_type": "display_data",
          "data": {
            "text/plain": [
              "<Figure size 640x480 with 2 Axes>"
            ],
            "image/png": "[encoded data removed]"
          },
          "metadata": {}
        }
      ]
    },
    {
      "cell_type": "markdown",
      "source": [
        "## Load image data using ImageFolder\n",
        "\n",
        "`torchvision.datasets.ImageFolder()` - https://pytorch.org/vision/stable/generated/torchvision.datasets.ImageFolder.html?highlight=imagefolder"
      ],
      "metadata": {
        "id": "wB0Z3QFXHcfk"
      }
    },
    {
      "cell_type": "code",
      "source": [
        "from torch.utils.data import DataLoader\n",
        "from torchvision import datasets, transforms\n",
        "\n",
        "# Compose train and test transforms\n",
        "train_transform = transforms.Compose([\n",
        "    transforms.Grayscale(num_output_channels=1), # to avoid dataloader overriding 1 color channel?\n",
        "    # Randomly flip imgs on horizontal plane\n",
        "    transforms.RandomHorizontalFlip(p=0.5),\n",
        "    # Augment color aspects of img\n",
        "    transforms.ColorJitter(brightness=(0.5,1.5),\n",
        "                           contrast=(1),\n",
        "                           saturation=(0.5,1.5),\n",
        "                           hue=(-0.1,0.1)),\n",
        "    # Turn img into torch Tensor\n",
        "    transforms.Grayscale(num_output_channels=1), # to avoid dataloader overriding 1 color channel?\n",
        "    transforms.ToTensor()\n",
        "])\n",
        "\n",
        "test_transform = transforms.Compose([\n",
        "    transforms.Grayscale(num_output_channels=1),\n",
        "    transforms.ToTensor()\n",
        "])"
      ],
      "metadata": {
        "id": "BKnNYjq3ISp6"
      },
      "execution_count": null,
      "outputs": []
    },
    {
      "cell_type": "code",
      "source": [
        "# Create datasets using ImageFolder\n",
        "from torchvision import datasets\n",
        "\n",
        "train_data = datasets.ImageFolder(root=train_dir,\n",
        "                                  transform=train_transform,\n",
        "                                  target_transform=None)\n",
        "\n",
        "test_data = datasets.ImageFolder(root=test_dir,\n",
        "                                 transform=test_transform,\n",
        "                                 target_transform=None)\n",
        "\n",
        "train_data, test_data"
      ],
      "metadata": {
        "colab": {
          "base_uri": "https://localhost:8080/"
        },
        "id": "ure5ADKXEbgw",
        "outputId": "75cb1cbc-dec6-4ac6-b7c1-77000f20e64c"
      },
      "execution_count": null,
      "outputs": [
        {
          "output_type": "execute_result",
          "data": {
            "text/plain": [
              "(Dataset ImageFolder\n",
              "     Number of datapoints: 28709\n",
              "     Root location: data/FER_images/FER_APP/train\n",
              "     StandardTransform\n",
              " Transform: Compose(\n",
              "                Grayscale(num_output_channels=1)\n",
              "                RandomHorizontalFlip(p=0.5)\n",
              "                ColorJitter(brightness=(0.5, 1.5), contrast=(0.0, 2.0), saturation=(0.5, 1.5), hue=(-0.1, 0.1))\n",
              "                Grayscale(num_output_channels=1)\n",
              "                ToTensor()\n",
              "            ),\n",
              " Dataset ImageFolder\n",
              "     Number of datapoints: 7178\n",
              "     Root location: data/FER_images/FER_APP/test\n",
              "     StandardTransform\n",
              " Transform: Compose(\n",
              "                Grayscale(num_output_channels=1)\n",
              "                ToTensor()\n",
              "            ))"
            ]
          },
          "metadata": {},
          "execution_count": 27
        }
      ]
    },
    {
      "cell_type": "code",
      "source": [
        "# Get class names as list and dict\n",
        "class_list = train_data.classes\n",
        "class_dict = train_data.class_to_idx\n",
        "\n",
        "class_list, class_dict"
      ],
      "metadata": {
        "colab": {
          "base_uri": "https://localhost:8080/"
        },
        "id": "YyhmtGsmH8_H",
        "outputId": "85c5d36e-0579-48f2-a898-e0f07358e459"
      },
      "execution_count": null,
      "outputs": [
        {
          "output_type": "execute_result",
          "data": {
            "text/plain": [
              "(['angry', 'disgust', 'fear', 'happy', 'neutral', 'sad', 'surprise'],\n",
              " {'angry': 0,\n",
              "  'disgust': 1,\n",
              "  'fear': 2,\n",
              "  'happy': 3,\n",
              "  'neutral': 4,\n",
              "  'sad': 5,\n",
              "  'surprise': 6})"
            ]
          },
          "metadata": {},
          "execution_count": 28
        }
      ]
    },
    {
      "cell_type": "code",
      "source": [
        "len(train_data), len(test_data)"
      ],
      "metadata": {
        "colab": {
          "base_uri": "https://localhost:8080/"
        },
        "id": "3mEI1irVIywq",
        "outputId": "5e88e627-2705-46c1-9663-31b2cc80ba5a"
      },
      "execution_count": null,
      "outputs": [
        {
          "output_type": "execute_result",
          "data": {
            "text/plain": [
              "(28709, 7178)"
            ]
          },
          "metadata": {},
          "execution_count": 29
        }
      ]
    },
    {
      "cell_type": "markdown",
      "source": [
        "## Turn images into DataLoaders"
      ],
      "metadata": {
        "id": "mQarbKEuoMb6"
      }
    },
    {
      "cell_type": "code",
      "source": [
        "from torch.utils.data import DataLoader\n",
        "\n",
        "# Create train dataloader\n",
        "BATCH_SIZE = 120\n",
        "\n",
        "train_dataloader = DataLoader(dataset=train_data,\n",
        "                              batch_size=BATCH_SIZE,\n",
        "                              num_workers=1,\n",
        "                              shuffle=True)\n",
        "\n",
        "test_dataloader = DataLoader(dataset=test_data,\n",
        "                             batch_size=BATCH_SIZE,\n",
        "                             num_workers=1,\n",
        "                             shuffle=False)\n",
        "\n",
        "print(f\"Dataloaders: {train_dataloader, test_dataloader}\")\n",
        "print(f\"Length of train dataloader: {len(train_dataloader)} batches of {BATCH_SIZE}\")\n",
        "print(f\"Length of test dataloader: {len(test_dataloader)} batches of {BATCH_SIZE}\")"
      ],
      "metadata": {
        "colab": {
          "base_uri": "https://localhost:8080/"
        },
        "id": "8sokwrLQmK3B",
        "outputId": "0d9654a1-fcf6-4af8-cb71-38463ebcf9e6"
      },
      "execution_count": null,
      "outputs": [
        {
          "output_type": "stream",
          "name": "stdout",
          "text": [
            "Dataloaders: (<torch.utils.data.dataloader.DataLoader object at 0x7fcef9495d50>, <torch.utils.data.dataloader.DataLoader object at 0x7fcef94948b0>)\n",
            "Length of train dataloader: 240 batches of 120\n",
            "Length of test dataloader: 60 batches of 120\n"
          ]
        }
      ]
    },
    {
      "cell_type": "code",
      "source": [
        "# Check what is in the dataloader(s)\n",
        "\n",
        "train_features_batch, train_labels_batch = next(iter(train_dataloader))\n",
        "test_features_batch, test_labels_batch = next(iter(test_dataloader))\n",
        "\n",
        "print(f\"TRAIN DATALOADER\")\n",
        "print(f\"Train Features Shape: {train_features_batch.shape}\")\n",
        "print(f\"Train Labels Shape: {train_labels_batch.shape}\")\n",
        "print(\"\\n\")\n",
        "print(f\"TEST DATALOADER\")\n",
        "print(f\"Test Features Shape: {test_features_batch.shape}\")\n",
        "print(f\"Test Labels Shape: {test_labels_batch.shape}\")"
      ],
      "metadata": {
        "colab": {
          "base_uri": "https://localhost:8080/"
        },
        "id": "dkrlQR0Ona2S",
        "outputId": "6e11a29b-1336-4007-a56f-5721d5ca54c4"
      },
      "execution_count": null,
      "outputs": [
        {
          "output_type": "stream",
          "name": "stdout",
          "text": [
            "TRAIN DATALOADER\n",
            "Train Features Shape: torch.Size([120, 1, 48, 48])\n",
            "Train Labels Shape: torch.Size([120])\n",
            "\n",
            "\n",
            "TEST DATALOADER\n",
            "Test Features Shape: torch.Size([120, 1, 48, 48])\n",
            "Test Labels Shape: torch.Size([120])\n"
          ]
        }
      ]
    },
    {
      "cell_type": "markdown",
      "source": [
        "## Why are our images showing 3 color channels?\n",
        "\n",
        "!!! To combat this I used a grayscale transform and it is fixed :)"
      ],
      "metadata": {
        "id": "jlLM43wuznsO"
      }
    },
    {
      "cell_type": "code",
      "source": [
        "rand_img.getbands(), rand_img.mode"
      ],
      "metadata": {
        "colab": {
          "base_uri": "https://localhost:8080/"
        },
        "id": "OSHyyqt6ynPq",
        "outputId": "1a0de6d2-6711-4b4c-e1ff-d6eb8683c589"
      },
      "execution_count": null,
      "outputs": [
        {
          "output_type": "execute_result",
          "data": {
            "text/plain": [
              "(('L',), 'L')"
            ]
          },
          "metadata": {},
          "execution_count": 32
        }
      ]
    },
    {
      "cell_type": "code",
      "source": [
        "import numpy as np\n",
        "\n",
        "rand_img_array = np.array(rand_img)\n",
        "rand_img_array"
      ],
      "metadata": {
        "colab": {
          "base_uri": "https://localhost:8080/"
        },
        "id": "1Jg5ca8xyudV",
        "outputId": "2b759981-0d96-4928-a722-eedfd81109e3"
      },
      "execution_count": null,
      "outputs": [
        {
          "output_type": "execute_result",
          "data": {
            "text/plain": [
              "array([[227, 225, 225, ..., 113, 108, 102],\n",
              "       [225, 226, 225, ..., 109, 105,  95],\n",
              "       [226, 227, 226, ..., 104, 103,  87],\n",
              "       ...,\n",
              "       [226, 224, 224, ...,  52,  39,  25],\n",
              "       [225, 224, 224, ...,  42,  32,  19],\n",
              "       [224, 224, 225, ...,  33,  21,  25]], dtype=uint8)"
            ]
          },
          "metadata": {},
          "execution_count": 33
        }
      ]
    },
    {
      "cell_type": "code",
      "source": [
        "rand_img_array.shape # notice the shape has dropped the color channel"
      ],
      "metadata": {
        "colab": {
          "base_uri": "https://localhost:8080/"
        },
        "id": "L5iZE6Q8yuaA",
        "outputId": "4bb9ed73-2c53-4c6f-e356-235d516196e1"
      },
      "execution_count": null,
      "outputs": [
        {
          "output_type": "execute_result",
          "data": {
            "text/plain": [
              "(48, 48)"
            ]
          },
          "metadata": {},
          "execution_count": 34
        }
      ]
    },
    {
      "cell_type": "markdown",
      "source": [
        "## Model 0: Without data augmentation"
      ],
      "metadata": {
        "id": "1peBC6X7R-Qh"
      }
    },
    {
      "cell_type": "markdown",
      "source": [
        "### Create model_0 transforms and load data"
      ],
      "metadata": {
        "id": "iCLUaAHXR7I9"
      }
    },
    {
      "cell_type": "code",
      "source": [
        "# Create simple transfrom\n",
        "\n",
        "simple_transform = transforms.Compose([\n",
        "    transforms.Grayscale(num_output_channels=1),\n",
        "    transforms.ToTensor()\n",
        "])"
      ],
      "metadata": {
        "id": "xYpUZ6AHR712"
      },
      "execution_count": null,
      "outputs": []
    },
    {
      "cell_type": "code",
      "source": [
        "# Load and transform data\n",
        "from torchvision import datasets\n",
        "\n",
        "train_data_simple = datasets.ImageFolder(root=train_dir,\n",
        "                                         transform=simple_transform)\n",
        "\n",
        "test_data_simple = datasets.ImageFolder(root=test_dir,\n",
        "                                        transform=simple_transform)\n",
        "\n",
        "train_data_simple, test_data_simple"
      ],
      "metadata": {
        "colab": {
          "base_uri": "https://localhost:8080/"
        },
        "id": "xn4r59iJR7zj",
        "outputId": "486209dc-b91d-45a0-fb7b-962705bde7b5"
      },
      "execution_count": null,
      "outputs": [
        {
          "output_type": "execute_result",
          "data": {
            "text/plain": [
              "(Dataset ImageFolder\n",
              "     Number of datapoints: 28709\n",
              "     Root location: data/FER_images/FER_APP/train\n",
              "     StandardTransform\n",
              " Transform: Compose(\n",
              "                Grayscale(num_output_channels=1)\n",
              "                ToTensor()\n",
              "            ),\n",
              " Dataset ImageFolder\n",
              "     Number of datapoints: 7178\n",
              "     Root location: data/FER_images/FER_APP/test\n",
              "     StandardTransform\n",
              " Transform: Compose(\n",
              "                Grayscale(num_output_channels=1)\n",
              "                ToTensor()\n",
              "            ))"
            ]
          },
          "metadata": {},
          "execution_count": 36
        }
      ]
    },
    {
      "cell_type": "code",
      "source": [
        "# Turn datasets into dataloaders\n",
        "import os\n",
        "from torch.utils.data import dataloader\n",
        "\n",
        "# Set up batch size/num workers\n",
        "BATCH_SIZE = 120\n",
        "NUM_WORKERS = os.cpu_count()\n",
        "\n",
        "# Create dataloaders\n",
        "train_dataloader_simple = DataLoader(dataset=train_data_simple,\n",
        "                                     batch_size=BATCH_SIZE,\n",
        "                                     num_workers=NUM_WORKERS,\n",
        "                                     shuffle=True)\n",
        "\n",
        "test_dataloader_simple = DataLoader(dataset=test_data_simple,\n",
        "                                    batch_size=BATCH_SIZE,\n",
        "                                    num_workers=NUM_WORKERS,\n",
        "                                    shuffle=False)"
      ],
      "metadata": {
        "id": "Cic8bdN2R7xI"
      },
      "execution_count": null,
      "outputs": []
    },
    {
      "cell_type": "code",
      "source": [
        "train_feat_simple_batch, train_label_simple_batch = next(iter(train_dataloader_simple))\n",
        "test_feat_simple_batch, test_label_simple_batch = next(iter(test_dataloader_simple))\n",
        "\n",
        "train_feat_simple_batch.shape, test_feat_simple_batch.shape"
      ],
      "metadata": {
        "colab": {
          "base_uri": "https://localhost:8080/"
        },
        "id": "CQQGZp40R7uw",
        "outputId": "1462031e-0623-457c-d671-c0c50bee49dc"
      },
      "execution_count": null,
      "outputs": [
        {
          "output_type": "execute_result",
          "data": {
            "text/plain": [
              "(torch.Size([120, 1, 48, 48]), torch.Size([120, 1, 48, 48]))"
            ]
          },
          "metadata": {},
          "execution_count": 38
        }
      ]
    },
    {
      "cell_type": "markdown",
      "source": [
        "### model_0 CNN\n",
        "\n",
        "Using CNN arcitecture from https://arxiv.org/ftp/arxiv/papers/2206/2206.09509.pdf as a reference"
      ],
      "metadata": {
        "id": "1FksvpEyfJI2"
      }
    },
    {
      "cell_type": "code",
      "source": [
        "# Create model_0 CNN\n",
        "\n",
        "class FERModelV0(nn.Module):\n",
        "  \"\"\"\n",
        "  Model arcitecture references from paper:\n",
        "  https://arxiv.org/ftp/arxiv/papers/2206/2206.09509.pdf\n",
        "  \"\"\"\n",
        "\n",
        "  def __init__(self,\n",
        "               input_shape: int,\n",
        "               hidden_units: int,\n",
        "               output_shape: int):\n",
        "    super().__init__()\n",
        "\n",
        "    self.conv_block_1 = nn.Sequential(\n",
        "        nn.Conv2d(in_channels=input_shape,\n",
        "                  out_channels=hidden_units,\n",
        "                  kernel_size=3,\n",
        "                  stride=1,\n",
        "                  padding=1),\n",
        "        nn.ReLU(),\n",
        "        nn.Conv2d(in_channels=hidden_units,\n",
        "                  out_channels=hidden_units,\n",
        "                  kernel_size=3,\n",
        "                  stride=1,\n",
        "                  padding=1),\n",
        "        nn.ReLU(),\n",
        "        nn.MaxPool2d(kernel_size=2,\n",
        "                     stride=2)\n",
        "    )\n",
        "\n",
        "    self.conv_block_2 = nn.Sequential(\n",
        "        nn.Conv2d(in_channels=hidden_units,\n",
        "                  out_channels=hidden_units,\n",
        "                  kernel_size=3,\n",
        "                  stride=1,\n",
        "                  padding=1),\n",
        "        nn.ReLU(),\n",
        "        nn.Conv2d(in_channels=hidden_units,\n",
        "                  out_channels=hidden_units,\n",
        "                  kernel_size=3,\n",
        "                  stride=1,\n",
        "                  padding=1),\n",
        "        nn.ReLU(),\n",
        "        nn.Conv2d(in_channels=hidden_units,\n",
        "                  out_channels=hidden_units,\n",
        "                  kernel_size=3,\n",
        "                  stride=1,\n",
        "                  padding=1),\n",
        "        nn.ReLU(),\n",
        "        nn.MaxPool2d(kernel_size=2,\n",
        "                     stride=2)\n",
        "    )\n",
        "\n",
        "    self.conv_block_3 = nn.Sequential(\n",
        "        nn.Conv2d(in_channels=hidden_units,\n",
        "                  out_channels=hidden_units,\n",
        "                  kernel_size=3,\n",
        "                  stride=1,\n",
        "                  padding=1),\n",
        "        nn.ReLU(),\n",
        "        nn.Conv2d(in_channels=hidden_units,\n",
        "                  out_channels=hidden_units,\n",
        "                  kernel_size=3,\n",
        "                  stride=1,\n",
        "                  padding=1),\n",
        "        nn.ReLU(),\n",
        "        nn.MaxPool2d(kernel_size=2,\n",
        "                     stride=2)\n",
        "    )\n",
        "\n",
        "    self.classifier = nn.Sequential(\n",
        "        nn.Flatten(),\n",
        "        nn.Linear(in_features=hidden_units*6*6,\n",
        "                  out_features=output_shape)\n",
        "    )\n",
        "\n",
        "  def forward(self, x):\n",
        "    x = self.conv_block_1(x)\n",
        "    print(f\"conv_block_1: {x.shape}\")\n",
        "    x = self.conv_block_2(x)\n",
        "    print(f\"conv_block_2: {x.shape}\")\n",
        "    x = self.conv_block_3(x)\n",
        "    print(f\"conv_block_3: {x.shape}\")\n",
        "    x = self.classifier(x)\n",
        "    print(f\"classifier: {x.shape}\")\n",
        "    return x\n"
      ],
      "metadata": {
        "id": "lnwyfaerfJGa"
      },
      "execution_count": null,
      "outputs": []
    },
    {
      "cell_type": "code",
      "source": [
        "# Instantiate model_0\n",
        "torch.manual_seed(42)\n",
        "\n",
        "model_0 = FERModelV0(input_shape=1, #num of color channels\n",
        "                     hidden_units=64,\n",
        "                     output_shape=len(class_list)).to(device)\n",
        "\n",
        "model_0, len(class_list), device"
      ],
      "metadata": {
        "colab": {
          "base_uri": "https://localhost:8080/"
        },
        "id": "s7mLhdBTfJD2",
        "outputId": "cf88eda0-0576-43a5-df7f-b3db40d0169d"
      },
      "execution_count": null,
      "outputs": [
        {
          "output_type": "execute_result",
          "data": {
            "text/plain": [
              "(FERModelV0(\n",
              "   (conv_block_1): Sequential(\n",
              "     (0): Conv2d(1, 64, kernel_size=(3, 3), stride=(1, 1), padding=(1, 1))\n",
              "     (1): ReLU()\n",
              "     (2): Conv2d(64, 64, kernel_size=(3, 3), stride=(1, 1), padding=(1, 1))\n",
              "     (3): ReLU()\n",
              "     (4): MaxPool2d(kernel_size=2, stride=2, padding=0, dilation=1, ceil_mode=False)\n",
              "   )\n",
              "   (conv_block_2): Sequential(\n",
              "     (0): Conv2d(64, 64, kernel_size=(3, 3), stride=(1, 1), padding=(1, 1))\n",
              "     (1): ReLU()\n",
              "     (2): Conv2d(64, 64, kernel_size=(3, 3), stride=(1, 1), padding=(1, 1))\n",
              "     (3): ReLU()\n",
              "     (4): Conv2d(64, 64, kernel_size=(3, 3), stride=(1, 1), padding=(1, 1))\n",
              "     (5): ReLU()\n",
              "     (6): MaxPool2d(kernel_size=2, stride=2, padding=0, dilation=1, ceil_mode=False)\n",
              "   )\n",
              "   (conv_block_3): Sequential(\n",
              "     (0): Conv2d(64, 64, kernel_size=(3, 3), stride=(1, 1), padding=(1, 1))\n",
              "     (1): ReLU()\n",
              "     (2): Conv2d(64, 64, kernel_size=(3, 3), stride=(1, 1), padding=(1, 1))\n",
              "     (3): ReLU()\n",
              "     (4): MaxPool2d(kernel_size=2, stride=2, padding=0, dilation=1, ceil_mode=False)\n",
              "   )\n",
              "   (classifier): Sequential(\n",
              "     (0): Flatten(start_dim=1, end_dim=-1)\n",
              "     (1): Linear(in_features=2304, out_features=7, bias=True)\n",
              "   )\n",
              " ),\n",
              " 7,\n",
              " 'cuda')"
            ]
          },
          "metadata": {},
          "execution_count": 40
        }
      ]
    },
    {
      "cell_type": "markdown",
      "source": [
        "### Try a forward pass on single image batch to test model"
      ],
      "metadata": {
        "id": "jbZElF_5q6fc"
      }
    },
    {
      "cell_type": "code",
      "source": [
        "# Get single image batch\n",
        "\n",
        "image_batch, label_batch = next(iter(train_dataloader_simple))\n",
        "image_batch.shape, label_batch.shape"
      ],
      "metadata": {
        "colab": {
          "base_uri": "https://localhost:8080/"
        },
        "id": "pMjWBlt1wjjg",
        "outputId": "ee1a7089-4d6c-496f-9424-e8e914248adb"
      },
      "execution_count": null,
      "outputs": [
        {
          "output_type": "execute_result",
          "data": {
            "text/plain": [
              "(torch.Size([120, 1, 48, 48]), torch.Size([120]))"
            ]
          },
          "metadata": {},
          "execution_count": 41
        }
      ]
    },
    {
      "cell_type": "code",
      "source": [
        "# Try forward pass\n",
        "model_0(image_batch.to(device))"
      ],
      "metadata": {
        "colab": {
          "base_uri": "https://localhost:8080/"
        },
        "id": "bxijROY_wt-8",
        "outputId": "051c3906-8107-4d35-eb86-0203b5788e6e"
      },
      "execution_count": null,
      "outputs": [
        {
          "output_type": "stream",
          "name": "stdout",
          "text": [
            "conv_block_1: torch.Size([120, 64, 24, 24])\n",
            "conv_block_2: torch.Size([120, 64, 12, 12])\n",
            "conv_block_3: torch.Size([120, 64, 6, 6])\n",
            "classifier: torch.Size([120, 7])\n"
          ]
        },
        {
          "output_type": "execute_result",
          "data": {
            "text/plain": [
              "tensor([[-0.0035,  0.0028,  0.0119,  0.0081, -0.0158,  0.0038,  0.0111],\n",
              "        [-0.0030,  0.0036,  0.0111,  0.0088, -0.0158,  0.0035,  0.0112],\n",
              "        [-0.0033,  0.0028,  0.0118,  0.0082, -0.0157,  0.0042,  0.0112],\n",
              "        [-0.0034,  0.0029,  0.0117,  0.0080, -0.0156,  0.0039,  0.0113],\n",
              "        [-0.0030,  0.0038,  0.0107,  0.0090, -0.0160,  0.0035,  0.0111],\n",
              "        [-0.0035,  0.0032,  0.0111,  0.0085, -0.0159,  0.0035,  0.0111],\n",
              "        [-0.0033,  0.0033,  0.0113,  0.0089, -0.0159,  0.0038,  0.0111],\n",
              "        [-0.0032,  0.0035,  0.0114,  0.0087, -0.0160,  0.0035,  0.0110],\n",
              "        [-0.0033,  0.0025,  0.0121,  0.0077, -0.0154,  0.0041,  0.0114],\n",
              "        [-0.0035,  0.0036,  0.0114,  0.0088, -0.0158,  0.0037,  0.0113],\n",
              "        [-0.0032,  0.0034,  0.0112,  0.0083, -0.0160,  0.0037,  0.0109],\n",
              "        [-0.0036,  0.0027,  0.0121,  0.0080, -0.0159,  0.0041,  0.0110],\n",
              "        [-0.0032,  0.0025,  0.0123,  0.0078, -0.0153,  0.0037,  0.0112],\n",
              "        [-0.0032,  0.0028,  0.0119,  0.0083, -0.0156,  0.0037,  0.0113],\n",
              "        [-0.0033,  0.0027,  0.0118,  0.0081, -0.0158,  0.0040,  0.0110],\n",
              "        [-0.0032,  0.0033,  0.0111,  0.0086, -0.0160,  0.0039,  0.0108],\n",
              "        [-0.0032,  0.0036,  0.0108,  0.0085, -0.0159,  0.0036,  0.0108],\n",
              "        [-0.0032,  0.0029,  0.0118,  0.0079, -0.0158,  0.0039,  0.0114],\n",
              "        [-0.0034,  0.0027,  0.0120,  0.0080, -0.0158,  0.0043,  0.0113],\n",
              "        [-0.0030,  0.0030,  0.0118,  0.0080, -0.0155,  0.0034,  0.0112],\n",
              "        [-0.0033,  0.0028,  0.0117,  0.0082, -0.0157,  0.0038,  0.0112],\n",
              "        [-0.0029,  0.0029,  0.0116,  0.0082, -0.0157,  0.0033,  0.0111],\n",
              "        [-0.0030,  0.0032,  0.0114,  0.0085, -0.0161,  0.0036,  0.0113],\n",
              "        [-0.0034,  0.0026,  0.0118,  0.0076, -0.0158,  0.0040,  0.0113],\n",
              "        [-0.0033,  0.0031,  0.0117,  0.0083, -0.0158,  0.0037,  0.0111],\n",
              "        [-0.0033,  0.0034,  0.0105,  0.0087, -0.0161,  0.0041,  0.0109],\n",
              "        [-0.0035,  0.0026,  0.0119,  0.0081, -0.0158,  0.0040,  0.0111],\n",
              "        [-0.0033,  0.0032,  0.0114,  0.0085, -0.0158,  0.0038,  0.0108],\n",
              "        [-0.0038,  0.0031,  0.0115,  0.0081, -0.0160,  0.0043,  0.0106],\n",
              "        [-0.0031,  0.0029,  0.0115,  0.0082, -0.0156,  0.0035,  0.0113],\n",
              "        [-0.0033,  0.0028,  0.0117,  0.0079, -0.0156,  0.0039,  0.0114],\n",
              "        [-0.0034,  0.0029,  0.0113,  0.0083, -0.0158,  0.0039,  0.0112],\n",
              "        [-0.0036,  0.0029,  0.0114,  0.0084, -0.0160,  0.0039,  0.0108],\n",
              "        [-0.0032,  0.0030,  0.0108,  0.0083, -0.0158,  0.0038,  0.0110],\n",
              "        [-0.0032,  0.0033,  0.0113,  0.0085, -0.0162,  0.0037,  0.0111],\n",
              "        [-0.0032,  0.0030,  0.0118,  0.0079, -0.0158,  0.0040,  0.0113],\n",
              "        [-0.0032,  0.0025,  0.0120,  0.0075, -0.0153,  0.0042,  0.0115],\n",
              "        [-0.0032,  0.0029,  0.0116,  0.0083, -0.0160,  0.0039,  0.0112],\n",
              "        [-0.0034,  0.0030,  0.0114,  0.0080, -0.0158,  0.0039,  0.0113],\n",
              "        [-0.0033,  0.0032,  0.0112,  0.0086, -0.0158,  0.0037,  0.0108],\n",
              "        [-0.0030,  0.0036,  0.0110,  0.0088, -0.0159,  0.0036,  0.0112],\n",
              "        [-0.0033,  0.0035,  0.0114,  0.0089, -0.0159,  0.0037,  0.0107],\n",
              "        [-0.0032,  0.0037,  0.0111,  0.0084, -0.0160,  0.0036,  0.0104],\n",
              "        [-0.0033,  0.0029,  0.0114,  0.0083, -0.0158,  0.0034,  0.0111],\n",
              "        [-0.0036,  0.0030,  0.0116,  0.0084, -0.0158,  0.0035,  0.0109],\n",
              "        [-0.0031,  0.0030,  0.0117,  0.0080, -0.0153,  0.0039,  0.0115],\n",
              "        [-0.0034,  0.0026,  0.0116,  0.0081, -0.0156,  0.0040,  0.0111],\n",
              "        [-0.0035,  0.0028,  0.0117,  0.0081, -0.0159,  0.0043,  0.0113],\n",
              "        [-0.0031,  0.0025,  0.0122,  0.0075, -0.0154,  0.0038,  0.0114],\n",
              "        [-0.0033,  0.0029,  0.0118,  0.0080, -0.0157,  0.0037,  0.0114],\n",
              "        [-0.0033,  0.0035,  0.0110,  0.0088, -0.0160,  0.0038,  0.0112],\n",
              "        [-0.0030,  0.0033,  0.0109,  0.0086, -0.0159,  0.0036,  0.0111],\n",
              "        [-0.0034,  0.0029,  0.0119,  0.0078, -0.0157,  0.0039,  0.0113],\n",
              "        [-0.0031,  0.0025,  0.0116,  0.0078, -0.0157,  0.0035,  0.0114],\n",
              "        [-0.0033,  0.0029,  0.0117,  0.0083, -0.0157,  0.0037,  0.0112],\n",
              "        [-0.0036,  0.0026,  0.0120,  0.0078, -0.0158,  0.0042,  0.0113],\n",
              "        [-0.0034,  0.0032,  0.0109,  0.0082, -0.0158,  0.0038,  0.0110],\n",
              "        [-0.0035,  0.0033,  0.0112,  0.0085, -0.0162,  0.0041,  0.0110],\n",
              "        [-0.0033,  0.0028,  0.0120,  0.0080, -0.0157,  0.0041,  0.0111],\n",
              "        [-0.0034,  0.0032,  0.0116,  0.0084, -0.0158,  0.0040,  0.0108],\n",
              "        [-0.0035,  0.0029,  0.0116,  0.0080, -0.0156,  0.0042,  0.0109],\n",
              "        [-0.0036,  0.0030,  0.0117,  0.0082, -0.0158,  0.0041,  0.0109],\n",
              "        [-0.0033,  0.0026,  0.0119,  0.0079, -0.0157,  0.0040,  0.0108],\n",
              "        [-0.0031,  0.0031,  0.0114,  0.0085, -0.0157,  0.0038,  0.0111],\n",
              "        [-0.0033,  0.0030,  0.0117,  0.0081, -0.0158,  0.0040,  0.0111],\n",
              "        [-0.0033,  0.0031,  0.0117,  0.0082, -0.0158,  0.0037,  0.0109],\n",
              "        [-0.0032,  0.0031,  0.0116,  0.0085, -0.0160,  0.0036,  0.0110],\n",
              "        [-0.0033,  0.0026,  0.0116,  0.0081, -0.0159,  0.0038,  0.0115],\n",
              "        [-0.0033,  0.0027,  0.0120,  0.0079, -0.0158,  0.0040,  0.0112],\n",
              "        [-0.0030,  0.0029,  0.0116,  0.0080, -0.0157,  0.0038,  0.0113],\n",
              "        [-0.0033,  0.0032,  0.0117,  0.0082, -0.0160,  0.0040,  0.0109],\n",
              "        [-0.0037,  0.0026,  0.0118,  0.0080, -0.0155,  0.0039,  0.0109],\n",
              "        [-0.0031,  0.0035,  0.0111,  0.0086, -0.0161,  0.0039,  0.0110],\n",
              "        [-0.0030,  0.0028,  0.0116,  0.0080, -0.0157,  0.0041,  0.0113],\n",
              "        [-0.0033,  0.0039,  0.0107,  0.0088, -0.0163,  0.0037,  0.0106],\n",
              "        [-0.0031,  0.0033,  0.0109,  0.0087, -0.0161,  0.0039,  0.0111],\n",
              "        [-0.0033,  0.0031,  0.0114,  0.0083, -0.0161,  0.0041,  0.0111],\n",
              "        [-0.0033,  0.0026,  0.0119,  0.0079, -0.0158,  0.0040,  0.0114],\n",
              "        [-0.0035,  0.0032,  0.0116,  0.0086, -0.0157,  0.0042,  0.0109],\n",
              "        [-0.0030,  0.0027,  0.0117,  0.0079, -0.0157,  0.0036,  0.0113],\n",
              "        [-0.0034,  0.0030,  0.0116,  0.0082, -0.0157,  0.0040,  0.0108],\n",
              "        [-0.0035,  0.0031,  0.0115,  0.0083, -0.0160,  0.0039,  0.0111],\n",
              "        [-0.0033,  0.0027,  0.0119,  0.0077, -0.0157,  0.0040,  0.0112],\n",
              "        [-0.0032,  0.0028,  0.0119,  0.0083, -0.0157,  0.0040,  0.0112],\n",
              "        [-0.0035,  0.0036,  0.0112,  0.0085, -0.0162,  0.0041,  0.0110],\n",
              "        [-0.0033,  0.0029,  0.0118,  0.0081, -0.0157,  0.0038,  0.0112],\n",
              "        [-0.0033,  0.0029,  0.0117,  0.0081, -0.0159,  0.0041,  0.0112],\n",
              "        [-0.0031,  0.0035,  0.0112,  0.0084, -0.0160,  0.0037,  0.0112],\n",
              "        [-0.0035,  0.0030,  0.0116,  0.0082, -0.0160,  0.0037,  0.0110],\n",
              "        [-0.0036,  0.0032,  0.0113,  0.0080, -0.0157,  0.0039,  0.0114],\n",
              "        [-0.0034,  0.0029,  0.0117,  0.0078, -0.0159,  0.0038,  0.0112],\n",
              "        [-0.0034,  0.0034,  0.0113,  0.0087, -0.0163,  0.0037,  0.0110],\n",
              "        [-0.0031,  0.0033,  0.0116,  0.0083, -0.0159,  0.0037,  0.0112],\n",
              "        [-0.0033,  0.0025,  0.0122,  0.0077, -0.0154,  0.0041,  0.0116],\n",
              "        [-0.0032,  0.0033,  0.0115,  0.0086, -0.0158,  0.0038,  0.0114],\n",
              "        [-0.0030,  0.0033,  0.0114,  0.0084, -0.0158,  0.0034,  0.0112],\n",
              "        [-0.0034,  0.0035,  0.0113,  0.0087, -0.0159,  0.0037,  0.0109],\n",
              "        [-0.0030,  0.0026,  0.0119,  0.0079, -0.0153,  0.0037,  0.0111],\n",
              "        [-0.0034,  0.0027,  0.0119,  0.0081, -0.0159,  0.0039,  0.0111],\n",
              "        [-0.0031,  0.0034,  0.0115,  0.0085, -0.0159,  0.0038,  0.0111],\n",
              "        [-0.0030,  0.0034,  0.0109,  0.0086, -0.0160,  0.0038,  0.0111],\n",
              "        [-0.0033,  0.0028,  0.0118,  0.0078, -0.0156,  0.0038,  0.0113],\n",
              "        [-0.0036,  0.0025,  0.0119,  0.0076, -0.0156,  0.0041,  0.0112],\n",
              "        [-0.0032,  0.0036,  0.0110,  0.0087, -0.0157,  0.0035,  0.0111],\n",
              "        [-0.0034,  0.0032,  0.0116,  0.0082, -0.0157,  0.0038,  0.0109],\n",
              "        [-0.0032,  0.0028,  0.0118,  0.0082, -0.0154,  0.0037,  0.0113],\n",
              "        [-0.0034,  0.0028,  0.0119,  0.0085, -0.0157,  0.0037,  0.0109],\n",
              "        [-0.0035,  0.0029,  0.0118,  0.0080, -0.0160,  0.0041,  0.0112],\n",
              "        [-0.0031,  0.0032,  0.0115,  0.0083, -0.0160,  0.0040,  0.0111],\n",
              "        [-0.0035,  0.0029,  0.0118,  0.0085, -0.0161,  0.0041,  0.0110],\n",
              "        [-0.0031,  0.0035,  0.0111,  0.0085, -0.0158,  0.0038,  0.0112],\n",
              "        [-0.0033,  0.0028,  0.0119,  0.0077, -0.0157,  0.0037,  0.0113],\n",
              "        [-0.0031,  0.0037,  0.0109,  0.0088, -0.0162,  0.0038,  0.0110],\n",
              "        [-0.0036,  0.0030,  0.0118,  0.0083, -0.0160,  0.0041,  0.0108],\n",
              "        [-0.0033,  0.0024,  0.0121,  0.0078, -0.0155,  0.0040,  0.0115],\n",
              "        [-0.0031,  0.0027,  0.0118,  0.0080, -0.0158,  0.0037,  0.0114],\n",
              "        [-0.0033,  0.0030,  0.0116,  0.0081, -0.0156,  0.0037,  0.0113],\n",
              "        [-0.0035,  0.0029,  0.0114,  0.0080, -0.0156,  0.0037,  0.0111],\n",
              "        [-0.0031,  0.0029,  0.0117,  0.0079, -0.0157,  0.0040,  0.0111],\n",
              "        [-0.0034,  0.0027,  0.0113,  0.0083, -0.0158,  0.0037,  0.0110]],\n",
              "       device='cuda:0', grad_fn=<AddmmBackward0>)"
            ]
          },
          "metadata": {},
          "execution_count": 42
        }
      ]
    },
    {
      "cell_type": "code",
      "source": [
        "64*6*6"
      ],
      "metadata": {
        "colab": {
          "base_uri": "https://localhost:8080/"
        },
        "id": "tWCBCFxKxXtd",
        "outputId": "75224fe1-0ae0-4463-cc1e-5c0ac460df0b"
      },
      "execution_count": null,
      "outputs": [
        {
          "output_type": "execute_result",
          "data": {
            "text/plain": [
              "2304"
            ]
          },
          "metadata": {},
          "execution_count": 43
        }
      ]
    },
    {
      "cell_type": "markdown",
      "source": [
        "### Use torchinfo to view model summary"
      ],
      "metadata": {
        "id": "kZoqkxACx6dW"
      }
    },
    {
      "cell_type": "code",
      "source": [
        "pip install torchinfo"
      ],
      "metadata": {
        "colab": {
          "base_uri": "https://localhost:8080/"
        },
        "id": "Xtj1q-YozKDT",
        "outputId": "29e67bc1-e146-4856-9cfd-d95a41501cfc"
      },
      "execution_count": null,
      "outputs": [
        {
          "output_type": "stream",
          "name": "stdout",
          "text": [
            "Looking in indexes: https://pypi.org/simple, https://us-python.pkg.dev/colab-wheels/public/simple/\n",
            "Collecting torchinfo\n",
            "  Downloading torchinfo-1.7.2-py3-none-any.whl (22 kB)\n",
            "Installing collected packages: torchinfo\n",
            "Successfully installed torchinfo-1.7.2\n"
          ]
        }
      ]
    },
    {
      "cell_type": "code",
      "source": [
        "from torchinfo import summary\n",
        "\n",
        "BATCH_SIZE = 120 \n",
        "summary(model=model_0,\n",
        "        input_size=[BATCH_SIZE,1,48,48])"
      ],
      "metadata": {
        "colab": {
          "base_uri": "https://localhost:8080/"
        },
        "id": "YrCXYm5yzKAv",
        "outputId": "dd9e5f25-2202-4686-ffb1-838a7e77d1a4"
      },
      "execution_count": null,
      "outputs": [
        {
          "output_type": "stream",
          "name": "stdout",
          "text": [
            "conv_block_1: torch.Size([120, 64, 24, 24])\n",
            "conv_block_2: torch.Size([120, 64, 12, 12])\n",
            "conv_block_3: torch.Size([120, 64, 6, 6])\n",
            "classifier: torch.Size([120, 7])\n"
          ]
        },
        {
          "output_type": "stream",
          "name": "stderr",
          "text": [
            "/usr/local/lib/python3.10/dist-packages/torchinfo/torchinfo.py:477: UserWarning: TypedStorage is deprecated. It will be removed in the future and UntypedStorage will be the only storage class. This should only matter to you if you are using storages directly.  To access UntypedStorage directly, use tensor.untyped_storage() instead of tensor.storage()\n",
            "  action_fn=lambda data: sys.getsizeof(data.storage()),\n",
            "/usr/local/lib/python3.10/dist-packages/torch/storage.py:665: UserWarning: TypedStorage is deprecated. It will be removed in the future and UntypedStorage will be the only storage class. This should only matter to you if you are using storages directly.  To access UntypedStorage directly, use tensor.untyped_storage() instead of tensor.storage()\n",
            "  return super().__sizeof__() + self.nbytes()\n"
          ]
        },
        {
          "output_type": "execute_result",
          "data": {
            "text/plain": [
              "==========================================================================================\n",
              "Layer (type:depth-idx)                   Output Shape              Param #\n",
              "==========================================================================================\n",
              "FERModelV0                               [120, 7]                  --\n",
              "├─Sequential: 1-1                        [120, 64, 24, 24]         --\n",
              "│    └─Conv2d: 2-1                       [120, 64, 48, 48]         640\n",
              "│    └─ReLU: 2-2                         [120, 64, 48, 48]         --\n",
              "│    └─Conv2d: 2-3                       [120, 64, 48, 48]         36,928\n",
              "│    └─ReLU: 2-4                         [120, 64, 48, 48]         --\n",
              "│    └─MaxPool2d: 2-5                    [120, 64, 24, 24]         --\n",
              "├─Sequential: 1-2                        [120, 64, 12, 12]         --\n",
              "│    └─Conv2d: 2-6                       [120, 64, 24, 24]         36,928\n",
              "│    └─ReLU: 2-7                         [120, 64, 24, 24]         --\n",
              "│    └─Conv2d: 2-8                       [120, 64, 24, 24]         36,928\n",
              "│    └─ReLU: 2-9                         [120, 64, 24, 24]         --\n",
              "│    └─Conv2d: 2-10                      [120, 64, 24, 24]         36,928\n",
              "│    └─ReLU: 2-11                        [120, 64, 24, 24]         --\n",
              "│    └─MaxPool2d: 2-12                   [120, 64, 12, 12]         --\n",
              "├─Sequential: 1-3                        [120, 64, 6, 6]           --\n",
              "│    └─Conv2d: 2-13                      [120, 64, 12, 12]         36,928\n",
              "│    └─ReLU: 2-14                        [120, 64, 12, 12]         --\n",
              "│    └─Conv2d: 2-15                      [120, 64, 12, 12]         36,928\n",
              "│    └─ReLU: 2-16                        [120, 64, 12, 12]         --\n",
              "│    └─MaxPool2d: 2-17                   [120, 64, 6, 6]           --\n",
              "├─Sequential: 1-4                        [120, 7]                  --\n",
              "│    └─Flatten: 2-18                     [120, 2304]               --\n",
              "│    └─Linear: 2-19                      [120, 7]                  16,135\n",
              "==========================================================================================\n",
              "Total params: 238,343\n",
              "Trainable params: 238,343\n",
              "Non-trainable params: 0\n",
              "Total mult-adds (G): 19.32\n",
              "==========================================================================================\n",
              "Input size (MB): 1.11\n",
              "Forward/backward pass size (MB): 406.99\n",
              "Params size (MB): 0.95\n",
              "Estimated Total Size (MB): 409.04\n",
              "=========================================================================================="
            ]
          },
          "metadata": {},
          "execution_count": 45
        }
      ]
    },
    {
      "cell_type": "markdown",
      "source": [
        "### Loss, Optimizer, Train/Test loops\n",
        "\n",
        "`train_step()` - takes in a model and dataloader and trains the model on the dataloader\n",
        "\n",
        "`test_step()` - takes in a model and dataloader and evaluates the model on the dataloader"
      ],
      "metadata": {
        "id": "XEFjCB000_kd"
      }
    },
    {
      "cell_type": "code",
      "source": [
        "# Import torchmetrics, setup loss function & optimizer\n",
        "\n",
        "try:\n",
        "  import torchmetrics\n",
        "except:\n",
        "  !pip install torchmetrics\n",
        "  import torchmetrics\n",
        "\n",
        "from torchmetrics import Accuracy\n",
        "\n",
        "loss_fn = nn.CrossEntropyLoss()\n",
        "optimizer = torch.optim.SGD(params=model_0.parameters(),\n",
        "                            lr=0.001)"
      ],
      "metadata": {
        "id": "c9MdpgFJzJ9M"
      },
      "execution_count": null,
      "outputs": []
    },
    {
      "cell_type": "code",
      "source": [
        "# Setup training loop function\n",
        "\n",
        "def train_step(model: torch.nn.Module,\n",
        "               data_loader: torch.utils.data.DataLoader,\n",
        "               loss_fn: torch.nn.Module,\n",
        "               optimizer: torch.optim.Optimizer,\n",
        "               accuracy_fn,\n",
        "               device: torch.device = device):\n",
        "\n",
        "  # Put model in train mode\n",
        "  model.train()\n",
        "\n",
        "  # Set cumulative loss & acc == 0\n",
        "  train_loss, train_acc = 0,0\n",
        "\n",
        "  # Set model to target device\n",
        "  model.to(device)\n",
        "\n",
        "  # Loop though data loader batches\n",
        "  for batch, (X,y) in enumerate(data_loader):\n",
        "    X,y = X.to(device), y.to(device)\n",
        "\n",
        "    # 1. Foward pass\n",
        "    y_pred = model(X) # output model logits\n",
        "\n",
        "    # 2. Calculate loss \n",
        "    loss = loss_fn(y_pred, y) # convert logits -> pred probs\n",
        "    train_loss += loss.item()\n",
        "\n",
        "    # 3. Set optimizer to zero grad\n",
        "    optimizer.zero_grad()\n",
        "\n",
        "    # 4. Backpropagation\n",
        "    loss.backward()\n",
        "\n",
        "    # 5. Step optimizer - gradient descent\n",
        "    optimizer.step()\n",
        "\n",
        "    # Calculate loss and acc per epoch\n",
        "    y_pred_class = torch.argmax(torch.softmax(y_pred, dim=1), dim=1)\n",
        "    train_acc += (y_pred_class==y).sum().item()/len(y_pred)\n",
        "  \n",
        "  # Adjust metrics to get avg. loss and acc per batch\n",
        "  train_loss = train_loss / len(dataloader)\n",
        "  train_acc = train_acc / len(dataloader)\n",
        "  return train_loss, train_acc"
      ],
      "metadata": {
        "id": "umFUm_zc24uA"
      },
      "execution_count": null,
      "outputs": []
    },
    {
      "cell_type": "code",
      "source": [
        "# Create test step function\n",
        "\n",
        "def test_step(model: torch.nn.Module,\n",
        "               data_loader: torch.utils.data.DataLoader,\n",
        "               loss_fn: torch.nn.Module,\n",
        "               optimizer: torch.optim.Optimizer,\n",
        "               accuracy_fn,\n",
        "               device: torch.device = device):\n",
        "  \n",
        "  # Put model in eval mode\n",
        "  model.eval()\n",
        "\n",
        "  # Set cumulative test loss/acc to 0\n",
        "  test_loss, test_acc = 0,0\n",
        "\n",
        "  # Turn on inference mode\n",
        "  with torch.inference_mode():\n",
        "    # Loop through DataLoader batches\n",
        "    for batch, (X,y) in enumerate(data_loader):\n",
        "\n",
        "      # Send data to target device\n",
        "      X, y = X.to(device), y.to(device)\n",
        "\n",
        "      # 1. Forward pass\n",
        "      test_pred_logits = model(X)\n",
        "\n",
        "      # 2. Calculate cumulative test loss\n",
        "      loss = loss_fn(test_pred_logits, y)\n",
        "      test_loss += loss.item()\n",
        "\n",
        "      # Calculate accuracy\n",
        "      test_pred_labels = test_pred_logits.argmax(dim=1)\n",
        "      test_acc += (test_pred_labels==y).sum().item() / len(test_pred_labels)\n",
        "\n",
        "    # Calculate test loss/acc per batch\n",
        "    test_loss /= len(test_dataloader)\n",
        "    test_acc /= len(test_dataloader)\n",
        "    return test_loss, test_acc\n",
        "    "
      ],
      "metadata": {
        "id": "MySaj9yn3T7i"
      },
      "execution_count": null,
      "outputs": []
    },
    {
      "cell_type": "code",
      "source": [
        "# Functionize training/testing loops for a set num of epochs"
      ],
      "metadata": {
        "id": "5q5iDozp3T5P"
      },
      "execution_count": null,
      "outputs": []
    },
    {
      "cell_type": "code",
      "source": [],
      "metadata": {
        "id": "ddiJn8ns3T2r"
      },
      "execution_count": null,
      "outputs": []
    },
    {
      "cell_type": "code",
      "source": [],
      "metadata": {
        "id": "cQ_Q6pkY3T0B"
      },
      "execution_count": null,
      "outputs": []
    }
  ]
}