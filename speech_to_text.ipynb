{
 "cells": [
  {
   "cell_type": "code",
   "execution_count": 4,
   "metadata": {},
   "outputs": [],
   "source": [
    "# Import or install speech recognition\n",
    "import sys\n",
    "try:\n",
    "    import speech_recognition as sr\n",
    "    import pyaudio\n",
    "except:\n",
    "    !{sys.executable} -m pip install SpeechRecognition\n",
    "    !{sys.executable} -m pip install pyaudio"
   ]
  },
  {
   "cell_type": "code",
   "execution_count": 5,
   "metadata": {},
   "outputs": [],
   "source": [
    "def main():\n",
    "    r = sr.Recognizer()\n",
    "    \n",
    "    with sr.Microphone() as source:\n",
    "        r.adjust_for_ambient_noise(source) #adjusts recognizer for background noise\n",
    "\n",
    "        print(\"Listening...\")\n",
    "        audio = r.listen(source) # listen to audio source\n",
    "\n",
    "        try:\n",
    "            print(\"You said: \\n\" + r.recognize_google(audio)) #use google API to transcribe\n",
    "        except Exception as e:\n",
    "            print(\"Error: \" + str(e)) # print exception error \n"
   ]
  },
  {
   "cell_type": "code",
   "execution_count": 12,
   "metadata": {},
   "outputs": [
    {
     "name": "stdout",
     "output_type": "stream",
     "text": [
      "Listening...\n",
      "result2:\n",
      "{   'alternative': [   {   'confidence': 0.7207793,\n",
      "                           'transcript': 'hello world how are you doing today'},\n",
      "                       {'transcript': 'helloworld how are you doing today'}],\n",
      "    'final': True}\n",
      "You said: \n",
      "hello world how are you doing today\n"
     ]
    }
   ],
   "source": [
    "if __name__ == \"__main__\":\n",
    "    main()"
   ]
  },
  {
   "cell_type": "code",
   "execution_count": null,
   "metadata": {},
   "outputs": [],
   "source": []
  }
 ],
 "metadata": {
  "kernelspec": {
   "display_name": "mlenv",
   "language": "python",
   "name": "mlenv"
  },
  "language_info": {
   "codemirror_mode": {
    "name": "ipython",
    "version": 3
   },
   "file_extension": ".py",
   "mimetype": "text/x-python",
   "name": "python",
   "nbconvert_exporter": "python",
   "pygments_lexer": "ipython3",
   "version": "3.7.13"
  },
  "orig_nbformat": 4
 },
 "nbformat": 4,
 "nbformat_minor": 2
}
